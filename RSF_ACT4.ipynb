{
  "nbformat": 4,
  "nbformat_minor": 0,
  "metadata": {
    "colab": {
      "provenance": []
    },
    "kernelspec": {
      "name": "python3",
      "display_name": "Python 3"
    },
    "language_info": {
      "name": "python"
    }
  },
  "cells": [
    {
      "cell_type": "markdown",
      "source": [
        "# **Actividad 4** Control de flujo en Python con funciones y excepciones\n",
        "Estudiante: Ramos Santamaria Fatima\\\n",
        "Matrícula: 379156\\\n",
        "Fecha: 08 de septiembre de 2025"
      ],
      "metadata": {
        "id": "VTfksbNhJBre"
      }
    },
    {
      "cell_type": "markdown",
      "source": [
        "Introducir conceptos básicos de manejo de excepciones (try), ciclos\n",
        "iterativos (for), generación de rangos (range()), y números aleatorios\n",
        "(random())."
      ],
      "metadata": {
        "id": "JiGwDbvLMlO9"
      }
    },
    {
      "cell_type": "markdown",
      "source": [
        "## **Ejercicio 1** Números Aleatorios (Par/Impar)\n",
        "\n",
        "\n",
        "**Enunciado:** Generar 40 números aleatorios entre 0 y 200. Desplegar los números y clasificarlos como \"par\" o \"impar\". Mostrar la cantidad de números pares e impares, así como la suma de ambos grupos.\n",
        "\n",
        "**Desarrollo:** Generar 40 números aleatorios utilizando la función\n",
        "random.randint(0, 200).\\\n",
        ">● Clasificar cada número como \"par\" o \"impar\" utilizando el operador\n",
        "módulo (%).\\\n",
        "● Contabilizar la cantidad de números pares e impares.\\\n",
        "● Calcular la suma de los números pares y la suma de los números\n",
        "impares.\\\n",
        "● Desplegar los resultados en un formato claro y organizado.\n",
        "\n",
        "**Conceptos a Aplicar:** Ciclo for, función random(), validación de par/impar, acumuladores y contadores."
      ],
      "metadata": {
        "id": "9EJcW9S9JH-w"
      }
    },
    {
      "cell_type": "code",
      "source": [
        "import random\n",
        "\n",
        "par = 0\n",
        "suma_par = 0\n",
        "suma_impar = 0\n",
        "for i in range(40):\n",
        "    num = random.randint(0,200)\n",
        "    if num % 2 == 0:\n",
        "        print(f\"{num} -- par\")\n",
        "        par += 1\n",
        "        suma_par += num\n",
        "    else:\n",
        "        print(f\"{num} -- impar\")\n",
        "        suma_impar += num\n",
        "\n",
        "print(f\"\\nSe ingresaron {par} números pares\")\n",
        "print(f\"La suma de los números pares es {suma_par}\\n\")\n",
        "\n",
        "print(f\"Se ingresaron {40 - par} números impares\")\n",
        "print(f\"La suma de los números impares es {suma_impar}\")"
      ],
      "metadata": {
        "colab": {
          "base_uri": "https://localhost:8080/"
        },
        "id": "JRLphTvuNY_A",
        "outputId": "bcff45ac-4e46-4b3a-d6d8-6fb73a0d41ea"
      },
      "execution_count": null,
      "outputs": [
        {
          "output_type": "stream",
          "name": "stdout",
          "text": [
            "7 -- impar\n",
            "76 -- par\n",
            "41 -- impar\n",
            "80 -- par\n",
            "87 -- impar\n",
            "161 -- impar\n",
            "13 -- impar\n",
            "189 -- impar\n",
            "95 -- impar\n",
            "169 -- impar\n",
            "89 -- impar\n",
            "157 -- impar\n",
            "112 -- par\n",
            "90 -- par\n",
            "186 -- par\n",
            "152 -- par\n",
            "4 -- par\n",
            "63 -- impar\n",
            "198 -- par\n",
            "176 -- par\n",
            "4 -- par\n",
            "160 -- par\n",
            "104 -- par\n",
            "55 -- impar\n",
            "35 -- impar\n",
            "34 -- par\n",
            "126 -- par\n",
            "21 -- impar\n",
            "108 -- par\n",
            "12 -- par\n",
            "183 -- impar\n",
            "9 -- impar\n",
            "44 -- par\n",
            "190 -- par\n",
            "13 -- impar\n",
            "143 -- impar\n",
            "194 -- par\n",
            "109 -- impar\n",
            "30 -- par\n",
            "5 -- impar\n",
            "\n",
            "Se ingresaron 20 números pares\n",
            "La suma de los números pares es 2080\n",
            "\n",
            "Se ingresaron 20 números impares\n",
            "La suma de los números impares es 1644\n"
          ]
        }
      ]
    },
    {
      "cell_type": "markdown",
      "source": [
        "## **Ejercicio 2** Tabla de Multiplicar\n",
        "\n",
        "**Enunciado:** Desplegar la tabla de multiplicar de un número dado (entre 1 y 20). Ejemplo: Si el número es 5, mostrar:\n",
        "\n",
        "\n",
        "```\n",
        "5 * 1 = 5\n",
        "5 * 2 = 10\n",
        "...\n",
        "5 * 10 = 50\n",
        "```\n",
        "\n",
        "**Desarrollo:**\n",
        ">● Solicitar al usuario un número entre 1 y 20.\\\n",
        "● Validar que el número esté dentro del rango permitido.\\\n",
        "● Utilizar un ciclo for con la función range() para generar los múltiplos\n",
        "del número ingresado.\\\n",
        "● Desplegar la tabla de multiplicar en un formato legible.\n",
        "\n",
        "**Conceptos a Aplicar:** Ciclo for, función range(), validación de entradas."
      ],
      "metadata": {
        "id": "gKi9Xx3eUjT3"
      }
    },
    {
      "cell_type": "code",
      "source": [
        "try:\n",
        "    for i in range(1,11):\n",
        "        if i == 1:\n",
        "            num = int(input(\"Ingrese un número entre el 1 y el 20 \"))\n",
        "\n",
        "        if num <= 1:\n",
        "            continue\n",
        "        if num >= 20:\n",
        "            continue\n",
        "\n",
        "        print(f\"{num} * {i} = {num * i}\")\n",
        "\n",
        "except ValueError:\n",
        "    print(f\"ERROR Ingrese un número\")\n",
        "except:\n",
        "    print(\"ERROR\")"
      ],
      "metadata": {
        "id": "SNWV98lDYZYa",
        "colab": {
          "base_uri": "https://localhost:8080/",
          "height": 0
        },
        "outputId": "9dc9acf8-b584-4e66-9230-58e3589575a2"
      },
      "execution_count": 8,
      "outputs": [
        {
          "output_type": "stream",
          "name": "stdout",
          "text": [
            "Ingrese un número entre el 1 y el 20 14\n",
            "14 * 1 = 14\n",
            "14 * 2 = 28\n",
            "14 * 3 = 42\n",
            "14 * 4 = 56\n",
            "14 * 5 = 70\n",
            "14 * 6 = 84\n",
            "14 * 7 = 98\n",
            "14 * 8 = 112\n",
            "14 * 9 = 126\n",
            "14 * 10 = 140\n"
          ]
        }
      ]
    },
    {
      "cell_type": "markdown",
      "source": [
        "## **Ejercicio 3** Validación de Calificación\n",
        "\n",
        "**Enunciado:** Leer una calificación dentro del rango de 0 a 100. Si hay un error de captura, mostrar un mensaje de error. Con la calificación correcta, indicar si está \"Aprobado\" (≥ 60) o \"Reprobado\" (< 60).\n",
        "\n",
        "**Desarrollo:** \\\n",
        ">● Solicitar al usuario una calificación.\\\n",
        "● Utilizar un bloque try-except para manejar errores de captura (por\n",
        "ejemplo, si el usuario ingresa texto en lugar de un número).\\\n",
        "● Validar que la calificación esté dentro del rango de 0 a 100.\\\n",
        "● Determinar si la calificación corresponde a \"Aprobado\" o \"Reprobado\".\\\n",
        "● Desplegar el resultado.\n",
        "\n",
        "**Conceptos a Aplicar:** Manejo de excepciones (try-except), validación de entradas, operadores de comparación."
      ],
      "metadata": {
        "id": "5gJdjHBVhuol"
      }
    },
    {
      "cell_type": "code",
      "source": [
        "try:\n",
        "    calif = int(input(\"Ingrese una calificación \"))\n",
        "\n",
        "    if calif < 0 or calif > 100:\n",
        "        print(\"Ingrese un número entre 0 y 100\")\n",
        "    else:\n",
        "        if calif >= 60:\n",
        "            print(\"Aprobado\")\n",
        "        else:\n",
        "            print(\"Reprobado\")\n",
        "\n",
        "except ValueError:\n",
        "    print(f\"ERROR Ingrese un número\")\n",
        "except:\n",
        "    print(\"ERROR\")"
      ],
      "metadata": {
        "colab": {
          "base_uri": "https://localhost:8080/",
          "height": 0
        },
        "id": "722UrmAajlHL",
        "outputId": "59282a8f-0746-4776-fb2c-5839e9fa5bbf"
      },
      "execution_count": 105,
      "outputs": [
        {
          "output_type": "stream",
          "name": "stdout",
          "text": [
            "Ingrese una calificación 45\n",
            "Reprobado\n"
          ]
        }
      ]
    },
    {
      "cell_type": "markdown",
      "source": [
        "## **Ejercicio 4** Suma y Media de Números\n",
        "\n",
        "**Enunciado:** Leer n números enteros positivos. El programa terminará cuando el usuario introduzca el número cero. Desplegar la suma de los números y su media.\n",
        "\n",
        "**Desarrollo:**\n",
        ">● Utilizar un ciclo while para leer números hasta que el usuario ingrese 0.\\\n",
        "● Validar que los números ingresados sean positivos.\\\n",
        "● Acumular los números ingresados y contar cuántos se han introducido.\\\n",
        "● Calcular la suma total y la media de los números.\\\n",
        "● Desplegar los resultados.\n",
        "\n",
        "**Conceptos a Aplicar:** Ciclo while, acumuladores, contadores, validación de entradas."
      ],
      "metadata": {
        "id": "bpPZ7eLd0E5Z"
      }
    },
    {
      "cell_type": "code",
      "source": [
        "try:\n",
        "    num = 1\n",
        "    suma = 0\n",
        "    i = 0\n",
        "\n",
        "    while num != 0:\n",
        "        num = int(input(\"Ingrese un numero: \"))\n",
        "\n",
        "        if num <=0:\n",
        "            continue\n",
        "\n",
        "        suma += num\n",
        "        i += 1\n",
        "\n",
        "    prom = suma / i\n",
        "\n",
        "    print(f\"Se ingresaron {i} numeros\")\n",
        "    print(f\"La suma es {suma}\")\n",
        "    print(f\"El promedio es de {prom}\")\n",
        "\n",
        "\n",
        "except ValueError:\n",
        "    print(f\"ERROR Ingrese un número\")\n",
        "except:\n",
        "    print(\"ERROR\")"
      ],
      "metadata": {
        "id": "ieUHkPLL0D1k",
        "colab": {
          "base_uri": "https://localhost:8080/",
          "height": 0
        },
        "outputId": "fc2786be-4306-405f-9885-af5663e423a9"
      },
      "execution_count": 25,
      "outputs": [
        {
          "output_type": "stream",
          "name": "stdout",
          "text": [
            "Ingrese un numero: 3\n",
            "Ingrese un numero: 3\n",
            "Ingrese un numero: 3\n",
            "Ingrese un numero: 3\n",
            "Ingrese un numero: 3\n",
            "Ingrese un numero: 3\n",
            "Ingrese un numero: 0\n",
            "Se ingresaron 6 numeros\n",
            "La suma es 18\n",
            "El promedio es de 3.0\n"
          ]
        }
      ]
    },
    {
      "cell_type": "markdown",
      "source": [
        "## **Ejercicio 5** Promedio de Materia\n",
        "\n",
        "**Enunciado:** Leer el promedio de una materia. El usuario tiene un máximo de 3\n",
        "oportunidades para cursar la materia. Si aprueba, felicitarlo y continuar al\n",
        "siguiente semestre. Si reprueba 3 veces, mostrar \"Baja Académica\".\n",
        "\n",
        "**Desarrollo:**\n",
        ">● Solicitar al usuario el promedio de la materia.\\\n",
        "● Validar que el promedio esté dentro del rango permitido (0 a 100).\\\n",
        "● Usar un ciclo for para permitir hasta 3 intentos.\\\n",
        "● Si el usuario aprueba (promedio ≥ 60), felicitarlo y finalizar el programa.\\\n",
        "● Si el usuario reprueba 3 veces, mostrar \"Baja Académica\".\n",
        "\n",
        "**Conceptos a Aplicar:** Ciclo for, validación de entradas, manejo de excepciones (try-except)."
      ],
      "metadata": {
        "id": "GFrI3VFd5LJy"
      }
    },
    {
      "cell_type": "code",
      "source": [
        "try:\n",
        "    for i in range(3):\n",
        "        prom = int(input(\"Ingrese promedio: \"))\n",
        "        if prom < 0:\n",
        "            continue\n",
        "        if prom > 100:\n",
        "            continue\n",
        "\n",
        "        if prom >= 60:\n",
        "            print(\"Felicidades, aprobaste\")\n",
        "            break\n",
        "        elif i == 2:\n",
        "            print(\"Baja academica\")\n",
        "\n",
        "except ValueError:\n",
        "    print(f\"ERROR Ingrese un número\")\n",
        "except:\n",
        "    print(\"ERROR\")"
      ],
      "metadata": {
        "id": "jmu9QhQ75kAd",
        "colab": {
          "base_uri": "https://localhost:8080/",
          "height": 0
        },
        "outputId": "29c13a5b-4a67-48bf-b583-4d78b03fcab8"
      },
      "execution_count": 48,
      "outputs": [
        {
          "output_type": "stream",
          "name": "stdout",
          "text": [
            "Ingrese promedio: 59\n",
            "Ingrese promedio: 70\n",
            "Felicidades, aprobaste\n"
          ]
        }
      ]
    },
    {
      "cell_type": "markdown",
      "source": [
        "## **Ejercicio 6** Función para Suma, Media, Mayor y Menor\n",
        "\n",
        "**Enunciado:** Crear una función que lea n números hasta que el usuario lo desee. Desplegar la suma, media, valor mayor y menor de los números ingresados.\n",
        "\n",
        "**Desarrollo:**\n",
        ">● Crear una función que utilice un ciclo while para leer números hasta que\n",
        "el usuario decida detenerse.\\\n",
        "● Calcular la suma, media, valor mayor y menor de los números\n",
        "ingresados.\\\n",
        "● Desplegar los resultados.\n",
        "\n",
        "**Conceptos a Aplicar:** Funciones personalizadas, ciclo while, acumuladores, contadores."
      ],
      "metadata": {
        "id": "S7kaz6py5oy4"
      }
    },
    {
      "cell_type": "code",
      "source": [
        "def numeros():\n",
        "    try:\n",
        "        suma = 0\n",
        "        band = 1\n",
        "        mayor = suma\n",
        "        menor = None\n",
        "        n = 0\n",
        "\n",
        "        while band == 1:\n",
        "            print(\"Menu\")\n",
        "            print(\"1 -- Ingresar un numero\")\n",
        "            print(\"0 -- Detener\")\n",
        "\n",
        "            band = int(input(\"\"))\n",
        "            if band == 0:\n",
        "                break\n",
        "            elif band == 1:\n",
        "                pass\n",
        "            else:\n",
        "                print(\"ERROR\")\n",
        "                break\n",
        "\n",
        "            num = int(input(\"Ingrese un numero: \"))\n",
        "\n",
        "            if num > mayor:\n",
        "                mayor = num\n",
        "            if menor is None or num < menor:\n",
        "                menor = num\n",
        "\n",
        "            suma += num\n",
        "            n += 1\n",
        "\n",
        "        prom = suma / n\n",
        "\n",
        "        print(f\"La suma es {suma}\")\n",
        "        print(f\"El promedio es de {prom}\")\n",
        "        print(f\"El mayor es {mayor}\")\n",
        "        print(f\"El menor es {menor}\")\n",
        "\n",
        "    except ValueError:\n",
        "        print(f\"ERROR Ingrese un número\")\n",
        "    except:\n",
        "        print(\"ERROR\")"
      ],
      "metadata": {
        "id": "qaWispOsFlu6"
      },
      "execution_count": 54,
      "outputs": []
    },
    {
      "cell_type": "code",
      "source": [
        "numeros()"
      ],
      "metadata": {
        "id": "MqZlANT76Ieb",
        "colab": {
          "base_uri": "https://localhost:8080/",
          "height": 0
        },
        "outputId": "29e13780-d80f-459e-d069-35fd3662ed41"
      },
      "execution_count": 55,
      "outputs": [
        {
          "output_type": "stream",
          "name": "stdout",
          "text": [
            "Menu\n",
            "1 -- Ingresar un numero\n",
            "0 -- Detener\n",
            "1\n",
            "Ingrese un numero: 4\n",
            "Menu\n",
            "1 -- Ingresar un numero\n",
            "0 -- Detener\n",
            "1\n",
            "Ingrese un numero: 2\n",
            "Menu\n",
            "1 -- Ingresar un numero\n",
            "0 -- Detener\n",
            "1\n",
            "Ingrese un numero: 5\n",
            "Menu\n",
            "1 -- Ingresar un numero\n",
            "0 -- Detener\n",
            "1\n",
            "Ingrese un numero: 7\n",
            "Menu\n",
            "1 -- Ingresar un numero\n",
            "0 -- Detener\n",
            "1\n",
            "Ingrese un numero: 1\n",
            "Menu\n",
            "1 -- Ingresar un numero\n",
            "0 -- Detener\n",
            "0\n",
            "La suma es 19\n",
            "El promedio es de 3.8\n",
            "El mayor es 7\n",
            "El menor es 1\n"
          ]
        }
      ]
    },
    {
      "cell_type": "markdown",
      "source": [
        "## **Ejercicio 7** Generación de Números Impares\n",
        "\n",
        "**Enunciado:** Crear una función que genere 15 números impares entre 10 y 60 o un máximo de 25 números. Desplegar la media de los números pares e impares.\n",
        "\n",
        "**Desarrollo:**\n",
        ">● Crear una función que utilice un ciclo for y la función\n",
        "random.randint() para generar números impares dentro del rango\n",
        "especificado.\\\n",
        "● Contabilizar los números generados y calcular la media de los números\n",
        "pares e impares.\\\n",
        "● Desplegar los resultados.\n",
        "\n",
        "**Conceptos a Aplicar:** Funciones personalizadas, ciclo for, función random(), acumuladores."
      ],
      "metadata": {
        "id": "-ZRIp92L6I43"
      }
    },
    {
      "cell_type": "code",
      "source": [
        "import random\n",
        "def numeros_random():\n",
        "    try:\n",
        "        impar = 0\n",
        "        suma_par = 0\n",
        "        suma_impar = 0\n",
        "\n",
        "        for i in range(1, 26):\n",
        "            num = random.randint(10,60)\n",
        "            print(f\"{i}. --> {num}\")\n",
        "\n",
        "            if num % 2 != 0:\n",
        "                impar += 1\n",
        "                suma_impar += num\n",
        "            elif num % 2 == 0:\n",
        "                suma_par += num\n",
        "\n",
        "            if impar >= 10:\n",
        "                break\n",
        "\n",
        "        prom_impar = suma_impar / impar\n",
        "        prom_par = suma_par / (i - impar)\n",
        "\n",
        "        print(f\"Numeros pares: {i - impar}\")\n",
        "        print(f\"Numeros impares: {impar}\")\n",
        "        print(f\"Promedio numeros pares: {prom_par:.2f}\")\n",
        "        print(f\"Promedio numeros impares: {prom_impar:.2f}\")\n",
        "\n",
        "\n",
        "    except ValueError:\n",
        "        print(f\"ERROR Ingrese un número\")\n",
        "    except:\n",
        "        print(\"ERROR\")"
      ],
      "metadata": {
        "id": "9cvnZOMu6esq"
      },
      "execution_count": 74,
      "outputs": []
    },
    {
      "cell_type": "code",
      "source": [
        "numeros_random()"
      ],
      "metadata": {
        "colab": {
          "base_uri": "https://localhost:8080/",
          "height": 0
        },
        "id": "Drxg6mdIIKEC",
        "outputId": "cb152052-1606-4d29-8041-a945d776e945"
      },
      "execution_count": 76,
      "outputs": [
        {
          "output_type": "stream",
          "name": "stdout",
          "text": [
            "1. --> 49\n",
            "2. --> 29\n",
            "3. --> 21\n",
            "4. --> 21\n",
            "5. --> 36\n",
            "6. --> 52\n",
            "7. --> 35\n",
            "8. --> 38\n",
            "9. --> 29\n",
            "10. --> 16\n",
            "11. --> 13\n",
            "12. --> 24\n",
            "13. --> 16\n",
            "14. --> 39\n",
            "15. --> 21\n",
            "16. --> 11\n",
            "Numeros pares: 6\n",
            "Numeros impares: 10\n",
            "Promedio numeros pares: 30.33\n",
            "Promedio numeros impares: 26.80\n"
          ]
        }
      ]
    },
    {
      "cell_type": "markdown",
      "source": [
        "## **Ejercicio 8** Validación de Número en Rango\n",
        "\n",
        "**Enunciado:** Crear una función que valide un número dentro de un rango dado por el usuario. Repetir esta acción hasta que el usuario lo desee. Desplegar la cantidad de números ingresados y su promedio.\n",
        "\n",
        "**Desarrollo:**\n",
        ">● Crear una función que solicite al usuario un número y un rango (mínimo y\n",
        "máximo).\\\n",
        "● Validar que el número esté dentro del rango especificado.\\\n",
        "● Permitir al usuario repetir el proceso hasta que decida detenerse.\\\n",
        "● Calcular la cantidad de números ingresados y su promedio.\\\n",
        "● Desplegar los resultados.\n",
        "\n",
        "**Conceptos a Aplicar:** Funciones personalizadas, validación de entradas, ciclo while."
      ],
      "metadata": {
        "id": "kqaEcBp_6fKi"
      }
    },
    {
      "cell_type": "code",
      "source": [
        "def rango(minimo, maximo):\n",
        "    try:\n",
        "        suma = 0\n",
        "        n = 0\n",
        "        band = 1\n",
        "\n",
        "        while band == 1:\n",
        "            print(\"Menú\")\n",
        "            print(\"1 -- Ingresar un número\")\n",
        "            print(\"0 -- Detener\")\n",
        "\n",
        "            band = int(input(\"Seleccione una opción: \"))\n",
        "\n",
        "            if band == 0:\n",
        "                break\n",
        "            elif band == 1:\n",
        "                num = int(input(\"\\n    Ingrese un número: \"))\n",
        "\n",
        "                if num < minimo or num > maximo:\n",
        "                    print(\"El número está fuera del rango\")\n",
        "                    continue\n",
        "                else:\n",
        "                    suma += num\n",
        "                    n += 1\n",
        "            else:\n",
        "                print(\"ERROR\")\n",
        "                break\n",
        "\n",
        "        prom = suma / n\n",
        "\n",
        "        print(f\"\\nNúmeros ingresados: {n}\")\n",
        "        print(f\"Promedio: {prom:.2f}\\n\")\n",
        "\n",
        "    except ValueError:\n",
        "        print(\"ERROR Ingrese un número válido\")\n",
        "    except:\n",
        "        print(\"ERROR\")"
      ],
      "metadata": {
        "id": "EckSi0EN67eC"
      },
      "execution_count": 88,
      "outputs": []
    },
    {
      "cell_type": "code",
      "source": [
        "try:\n",
        "    minimo = int(input(\"Ingrese el valor mínimo del rango: \"))\n",
        "    maximo = int(input(\"Ingrese el valor máximo del rango: \"))\n",
        "\n",
        "    rango(minimo, maximo)\n",
        "\n",
        "except ValueError:\n",
        "    print(f\"ERROR Ingrese un número\")\n",
        "except:\n",
        "    print(\"ERROR\")"
      ],
      "metadata": {
        "colab": {
          "base_uri": "https://localhost:8080/",
          "height": 0
        },
        "id": "EnQoHZc2KVRU",
        "outputId": "77db5d8d-2a15-4460-f765-5a9577909eaf"
      },
      "execution_count": 96,
      "outputs": [
        {
          "output_type": "stream",
          "name": "stdout",
          "text": [
            "Ingrese el valor mínimo del rango: 4\n",
            "Ingrese el valor máximo del rango: 8\n",
            "Menú\n",
            "1 -- Ingresar un número\n",
            "0 -- Detener\n",
            "Seleccione una opción: 1\n",
            "\n",
            "    Ingrese un número: 4\n",
            "Menú\n",
            "1 -- Ingresar un número\n",
            "0 -- Detener\n",
            "Seleccione una opción: 1\n",
            "\n",
            "    Ingrese un número: 3\n",
            "El número está fuera del rango\n",
            "Menú\n",
            "1 -- Ingresar un número\n",
            "0 -- Detener\n",
            "Seleccione una opción: 1\n",
            "\n",
            "    Ingrese un número: 6\n",
            "Menú\n",
            "1 -- Ingresar un número\n",
            "0 -- Detener\n",
            "Seleccione una opción: 1\n",
            "\n",
            "    Ingrese un número: 8\n",
            "Menú\n",
            "1 -- Ingresar un número\n",
            "0 -- Detener\n",
            "Seleccione una opción: 1\n",
            "\n",
            "    Ingrese un número: 2\n",
            "El número está fuera del rango\n",
            "Menú\n",
            "1 -- Ingresar un número\n",
            "0 -- Detener\n",
            "Seleccione una opción: 0\n",
            "\n",
            "Números ingresados: 3\n",
            "Promedio: 6.00\n",
            "\n"
          ]
        }
      ]
    },
    {
      "cell_type": "markdown",
      "source": [
        "## **Ejercicio 9** Área de un Triángulo\n",
        "\n",
        "**Enunciado:** Crear una función que reciba como parámetros los valores para calcular el área de un triángulo y retorne su resultado.\n",
        "\n",
        "**Desarrollo:**\n",
        ">● Crear una función que reciba como parámetros la base y la altura de un\n",
        "triángulo.\\\n",
        "● Calcular el área utilizando la fórmula: (base * altura) / 2.\\\n",
        "● Retornar el resultado.\\\n",
        "● Llamar a la función desde el programa principal y desplegar el resultado.\\\n",
        "\n",
        "**Conceptos a Aplicar:** Funciones personalizadas, fórmulas matemáticas, retorno de valores."
      ],
      "metadata": {
        "id": "frHIPbBS677T"
      }
    },
    {
      "cell_type": "code",
      "source": [
        "def area_triangulo(base, altura):\n",
        "    try:\n",
        "        area = (base * altura) / 2\n",
        "        return area\n",
        "\n",
        "    except:\n",
        "        print(\"ERROR\")"
      ],
      "metadata": {
        "id": "_duWdp9w7WpU"
      },
      "execution_count": 90,
      "outputs": []
    },
    {
      "cell_type": "code",
      "source": [
        "try:\n",
        "    base = int(input(\"Ingrese la base del triangulo: \"))\n",
        "    altura = int(input(\"Ingrese la altura del triangulo: \"))\n",
        "\n",
        "    print(f\"El area es: {area_triangulo(base, altura)} u^2\")\n",
        "\n",
        "except ValueError:\n",
        "    print(f\"ERROR Ingrese un número\")\n",
        "except:\n",
        "    print(\"ERROR\")"
      ],
      "metadata": {
        "colab": {
          "base_uri": "https://localhost:8080/",
          "height": 0
        },
        "id": "d5ZCrEZGMyH2",
        "outputId": "18e29970-df64-4372-dff1-736e59885086"
      },
      "execution_count": 97,
      "outputs": [
        {
          "output_type": "stream",
          "name": "stdout",
          "text": [
            "Ingrese la base del triangulo: 3\n",
            "Ingrese la altura del triangulo: 6\n",
            "El area es: 9.0 u^2\n"
          ]
        }
      ]
    },
    {
      "cell_type": "markdown",
      "source": [
        "## **Ejercicio 10** Validación de Número en Rango\n",
        "\n",
        "**Enunciado:** Crear una función que valide un número dentro de un rango dado.\n",
        "\n",
        "**Desarrollo:**\n",
        ">● Crear una función que solicite al usuario un número y un rango (mínimo y\n",
        "máximo).\\\n",
        "● Validar que el número esté dentro del rango especificado.\\\n",
        "● Desplegar un mensaje indicando si el número es válido o no.\n",
        "\n",
        "**Conceptos a Aplicar:** Funciones personalizadas, validación de entradas."
      ],
      "metadata": {
        "id": "uXfiTF4i7XOj"
      }
    },
    {
      "cell_type": "code",
      "source": [
        "def validar_rango(num, minimo, maximo):\n",
        "    try:\n",
        "        if num < minimo or num > maximo:\n",
        "            print(\"Numero fuera de rango\")\n",
        "        else:\n",
        "            print(\"Numero valido\")\n",
        "\n",
        "    except:\n",
        "        print(\"ERROR\")"
      ],
      "metadata": {
        "id": "6IGcqwU67uQD"
      },
      "execution_count": 100,
      "outputs": []
    },
    {
      "cell_type": "code",
      "source": [
        "try:\n",
        "    minimo = int(input(\"Ingrese el valor mínimo del rango: \"))\n",
        "    maximo = int(input(\"Ingrese el valor máximo del rango: \"))\n",
        "\n",
        "    num = int(input(\"Ingrese un numero: \"))\n",
        "\n",
        "    validar_rango(num, minimo, maximo)\n",
        "\n",
        "except ValueError:\n",
        "    print(f\"ERROR Ingrese un número\")\n",
        "except:\n",
        "    print(\"ERROR\")"
      ],
      "metadata": {
        "colab": {
          "base_uri": "https://localhost:8080/",
          "height": 0
        },
        "id": "wGmE-ITgOICP",
        "outputId": "21492917-54a8-424a-b23f-51aa13fdc307"
      },
      "execution_count": 102,
      "outputs": [
        {
          "output_type": "stream",
          "name": "stdout",
          "text": [
            "Ingrese el valor mínimo del rango: 4\n",
            "Ingrese el valor máximo del rango: 8\n",
            "Ingrese un numero: 3\n",
            "Numero fuera de rango\n"
          ]
        }
      ]
    }
  ]
}